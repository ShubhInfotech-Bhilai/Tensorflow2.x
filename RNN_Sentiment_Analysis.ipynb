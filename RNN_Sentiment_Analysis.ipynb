{
  "nbformat": 4,
  "nbformat_minor": 0,
  "metadata": {
    "colab": {
      "name": "RNN-Sentiment-Analysis.ipynb",
      "provenance": [],
      "authorship_tag": "ABX9TyODe+jHZLu7W0zWZLLk/qT5",
      "include_colab_link": true
    },
    "kernelspec": {
      "name": "python3",
      "display_name": "Python 3"
    },
    "accelerator": "GPU"
  },
  "cells": [
    {
      "cell_type": "markdown",
      "metadata": {
        "id": "view-in-github",
        "colab_type": "text"
      },
      "source": [
        "<a href=\"https://colab.research.google.com/github/adarsh415/Tensorflow2.x/blob/master/RNN_Sentiment_Analysis.ipynb\" target=\"_parent\"><img src=\"https://colab.research.google.com/assets/colab-badge.svg\" alt=\"Open In Colab\"/></a>"
      ]
    },
    {
      "cell_type": "code",
      "metadata": {
        "id": "EpXiqVf02QsL",
        "colab_type": "code",
        "outputId": "1b9d05a9-0dfb-4d19-d448-1fd4f526e5c9",
        "colab": {
          "base_uri": "https://localhost:8080/",
          "height": 33
        }
      },
      "source": [
        "%tensorflow_version 2.x\n",
        "\n",
        "import tensorflow as tf\n",
        "import tensorflow.keras as keras\n",
        "from tensorflow.keras import optimizers, layers, datasets, metrics, models\n",
        "import numpy as np\n",
        "import matplotlib.pyplot as plt\n",
        "%matplotlib inline"
      ],
      "execution_count": 1,
      "outputs": [
        {
          "output_type": "stream",
          "text": [
            "TensorFlow 2.x selected.\n"
          ],
          "name": "stdout"
        }
      ]
    },
    {
      "cell_type": "code",
      "metadata": {
        "id": "2KxgvY0V2ykv",
        "colab_type": "code",
        "outputId": "21f4f60d-eeaf-4e19-dff2-9c3ea1d85309",
        "colab": {
          "base_uri": "https://localhost:8080/",
          "height": 50
        }
      },
      "source": [
        "(x_train, y_train), (x_test, y_test) = datasets.imdb.load_data()"
      ],
      "execution_count": 2,
      "outputs": [
        {
          "output_type": "stream",
          "text": [
            "Downloading data from https://storage.googleapis.com/tensorflow/tf-keras-datasets/imdb.npz\n",
            "17465344/17464789 [==============================] - 2s 0us/step\n"
          ],
          "name": "stdout"
        }
      ]
    },
    {
      "cell_type": "code",
      "metadata": {
        "id": "924V2Zgm3XpY",
        "colab_type": "code",
        "colab": {}
      },
      "source": [
        "config = {'sent_len':100,\n",
        "'vocab':100000,\n",
        "'embed_size':100,\n",
        "'cell_size':[32,64,128],\n",
        "'num_layers':3\n",
        "}"
      ],
      "execution_count": 0,
      "outputs": []
    },
    {
      "cell_type": "code",
      "metadata": {
        "id": "ZRbJKjhi3f41",
        "colab_type": "code",
        "colab": {}
      },
      "source": [
        "X_train_pad = keras.preprocessing.sequence.pad_sequences(x_train, maxlen=config['sent_len'])\n",
        "X_test_pad = keras.preprocessing.sequence.pad_sequences(x_test)"
      ],
      "execution_count": 0,
      "outputs": []
    },
    {
      "cell_type": "code",
      "metadata": {
        "id": "ha0ekWM73iqA",
        "colab_type": "code",
        "colab": {}
      },
      "source": [
        ""
      ],
      "execution_count": 0,
      "outputs": []
    },
    {
      "cell_type": "code",
      "metadata": {
        "id": "OxjprGNOZbXM",
        "colab_type": "code",
        "colab": {}
      },
      "source": [
        "class Sentiment(models.Model):\n",
        "  def __init__(self, kwargs):\n",
        "    super(Sentiment, self).__init__()\n",
        "    self.cell_size=kwargs['cell_size']\n",
        "    self.num_layers=kwargs['num_layers']\n",
        "    self.embed_size=kwargs['embed_size']\n",
        "    self.sent_len=kwargs['sent_len']\n",
        "    self.vocab=kwargs['vocab']\n",
        "\n",
        "    assert len(self.cell_size) == self.num_layers\n",
        "\n",
        "    self.cells = [layers.LSTMCell(self.cell_size[i]) for i in range(self.num_layers)]\n",
        "    self.rnn = layers.RNN(self.cells, return_state=True)\n",
        "    self.embedding = layers.Embedding(self.vocab,self.embed_size, input_length=self.sent_len, mask_zero=True)\n",
        "    self.dense = keras.layers.Dense(1)\n",
        "\n",
        "  def call(self, x):\n",
        "    x = self.embedding(x)\n",
        "    x=self.rnn(x)\n",
        "    x = self.dense(x[0])\n",
        "    return  x"
      ],
      "execution_count": 0,
      "outputs": []
    },
    {
      "cell_type": "code",
      "metadata": {
        "id": "59-EGkFD1EqR",
        "colab_type": "code",
        "colab": {}
      },
      "source": [
        ""
      ],
      "execution_count": 0,
      "outputs": []
    },
    {
      "cell_type": "code",
      "metadata": {
        "id": "9OT3tg-Bjg5W",
        "colab_type": "code",
        "colab": {}
      },
      "source": [
        "rnn = Sentiment(config)"
      ],
      "execution_count": 0,
      "outputs": []
    },
    {
      "cell_type": "code",
      "metadata": {
        "id": "x4J9lA101Hcj",
        "colab_type": "code",
        "colab": {}
      },
      "source": [
        "rnn.compile(optimizer=optimizers.Adam(learning_rate=0.001), loss=keras.losses.BinaryCrossentropy(from_logits=True), metrics=['accuracy'] )"
      ],
      "execution_count": 0,
      "outputs": []
    },
    {
      "cell_type": "code",
      "metadata": {
        "id": "aXa44Lj7j2KN",
        "colab_type": "code",
        "outputId": "a19bbc05-89ee-4d21-ffd4-247241e00b92",
        "colab": {
          "base_uri": "https://localhost:8080/",
          "height": 719
        }
      },
      "source": [
        "rnn.fit(x=X_train_pad,y=y_train, batch_size=64, epochs=20, validation_data=(X_test_pad,y_test), verbose=1)"
      ],
      "execution_count": 8,
      "outputs": [
        {
          "output_type": "stream",
          "text": [
            "Train on 25000 samples, validate on 25000 samples\n",
            "Epoch 1/20\n",
            "25000/25000 [==============================] - 597s 24ms/sample - loss: 0.4134 - accuracy: 0.7956 - val_loss: 0.3284 - val_accuracy: 0.8658\n",
            "Epoch 2/20\n",
            "25000/25000 [==============================] - 587s 23ms/sample - loss: 0.1872 - accuracy: 0.9267 - val_loss: 0.3241 - val_accuracy: 0.8667\n",
            "Epoch 3/20\n",
            "25000/25000 [==============================] - 588s 24ms/sample - loss: 0.0855 - accuracy: 0.9690 - val_loss: 0.4863 - val_accuracy: 0.8550\n",
            "Epoch 4/20\n",
            "25000/25000 [==============================] - 583s 23ms/sample - loss: 0.0410 - accuracy: 0.9864 - val_loss: 0.6033 - val_accuracy: 0.8426\n",
            "Epoch 5/20\n",
            "25000/25000 [==============================] - 588s 24ms/sample - loss: 0.0327 - accuracy: 0.9885 - val_loss: 0.5798 - val_accuracy: 0.8441\n",
            "Epoch 6/20\n",
            "25000/25000 [==============================] - 602s 24ms/sample - loss: 0.0205 - accuracy: 0.9930 - val_loss: 0.6817 - val_accuracy: 0.8400\n",
            "Epoch 7/20\n",
            "25000/25000 [==============================] - 582s 23ms/sample - loss: 0.0185 - accuracy: 0.9939 - val_loss: 0.7689 - val_accuracy: 0.8432\n",
            "Epoch 8/20\n",
            "25000/25000 [==============================] - 575s 23ms/sample - loss: 0.0164 - accuracy: 0.9942 - val_loss: 0.8947 - val_accuracy: 0.8393\n",
            "Epoch 9/20\n",
            "25000/25000 [==============================] - 567s 23ms/sample - loss: 0.0185 - accuracy: 0.9932 - val_loss: 0.7798 - val_accuracy: 0.8431\n",
            "Epoch 10/20\n",
            "25000/25000 [==============================] - 567s 23ms/sample - loss: 0.0110 - accuracy: 0.9964 - val_loss: 0.8946 - val_accuracy: 0.8413\n",
            "Epoch 11/20\n",
            "25000/25000 [==============================] - 582s 23ms/sample - loss: 0.0067 - accuracy: 0.9977 - val_loss: 0.9411 - val_accuracy: 0.8431\n",
            "Epoch 12/20\n",
            "25000/25000 [==============================] - 562s 22ms/sample - loss: 0.0146 - accuracy: 0.9959 - val_loss: 0.9125 - val_accuracy: 0.8272\n",
            "Epoch 13/20\n",
            "25000/25000 [==============================] - 565s 23ms/sample - loss: 0.0102 - accuracy: 0.9972 - val_loss: 0.8448 - val_accuracy: 0.8448\n",
            "Epoch 14/20\n",
            "25000/25000 [==============================] - 551s 22ms/sample - loss: 0.0074 - accuracy: 0.9976 - val_loss: 0.9451 - val_accuracy: 0.8374\n",
            "Epoch 15/20\n",
            "25000/25000 [==============================] - 554s 22ms/sample - loss: 0.0033 - accuracy: 0.9991 - val_loss: 1.0322 - val_accuracy: 0.8343\n",
            "Epoch 16/20\n",
            "25000/25000 [==============================] - 563s 23ms/sample - loss: 0.0050 - accuracy: 0.9986 - val_loss: 1.1057 - val_accuracy: 0.8389\n",
            "Epoch 17/20\n",
            "25000/25000 [==============================] - 547s 22ms/sample - loss: 0.0050 - accuracy: 0.9983 - val_loss: 1.0143 - val_accuracy: 0.8399\n",
            "Epoch 18/20\n",
            "25000/25000 [==============================] - 550s 22ms/sample - loss: 0.0064 - accuracy: 0.9977 - val_loss: 0.9764 - val_accuracy: 0.8264\n",
            "Epoch 19/20\n",
            "25000/25000 [==============================] - 539s 22ms/sample - loss: 0.0077 - accuracy: 0.9977 - val_loss: 0.9868 - val_accuracy: 0.8376\n",
            "Epoch 20/20\n",
            "25000/25000 [==============================] - 538s 22ms/sample - loss: 0.0041 - accuracy: 0.9987 - val_loss: 1.1227 - val_accuracy: 0.8337\n"
          ],
          "name": "stdout"
        },
        {
          "output_type": "execute_result",
          "data": {
            "text/plain": [
              "<tensorflow.python.keras.callbacks.History at 0x7ff4699f6780>"
            ]
          },
          "metadata": {
            "tags": []
          },
          "execution_count": 8
        }
      ]
    },
    {
      "cell_type": "code",
      "metadata": {
        "id": "yYHh17iip1R-",
        "colab_type": "code",
        "colab": {
          "base_uri": "https://localhost:8080/",
          "height": 33
        },
        "outputId": "ee5bb9e7-be97-4c03-c0d1-a517f6c61180"
      },
      "source": [
        "prediction = rnn.predict(X_test_pad,128, verbose=1)"
      ],
      "execution_count": 9,
      "outputs": [
        {
          "output_type": "stream",
          "text": [
            "25000/25000 [==============================] - 213s 9ms/sample\n"
          ],
          "name": "stdout"
        }
      ]
    },
    {
      "cell_type": "code",
      "metadata": {
        "id": "5Cj5H7RrckyS",
        "colab_type": "code",
        "colab": {
          "base_uri": "https://localhost:8080/",
          "height": 33
        },
        "outputId": "9813f7c9-e838-46a3-ff15-1e16b13aac1c"
      },
      "source": [
        "score = rnn.evaluate(x=X_test_pad,y=y_test, batch_size=128)"
      ],
      "execution_count": 21,
      "outputs": [
        {
          "output_type": "stream",
          "text": [
            "25000/25000 [==============================] - 218s 9ms/sample - loss: 1.1227 - accuracy: 0.8337\n"
          ],
          "name": "stdout"
        }
      ]
    },
    {
      "cell_type": "code",
      "metadata": {
        "id": "zYEsMr7qesdX",
        "colab_type": "code",
        "colab": {
          "base_uri": "https://localhost:8080/",
          "height": 33
        },
        "outputId": "b622e5fb-282d-4323-e200-1e57f2019c42"
      },
      "source": [
        "print(f'test loss: {score[0]} and accuracy: {score[1]}')"
      ],
      "execution_count": 23,
      "outputs": [
        {
          "output_type": "stream",
          "text": [
            "test loss: 1.122720851135254 and accuracy: 0.8337200284004211\n"
          ],
          "name": "stdout"
        }
      ]
    },
    {
      "cell_type": "code",
      "metadata": {
        "id": "HJjECug1fo4V",
        "colab_type": "code",
        "colab": {}
      },
      "source": [
        ""
      ],
      "execution_count": 0,
      "outputs": []
    }
  ]
}