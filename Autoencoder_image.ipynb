{
  "nbformat": 4,
  "nbformat_minor": 0,
  "metadata": {
    "colab": {
      "name": "Autoencoder_image.ipynb",
      "provenance": [],
      "machine_shape": "hm",
      "authorship_tag": "ABX9TyOfPOJopaYcpiGRAj6OH5HV",
      "include_colab_link": true
    },
    "kernelspec": {
      "name": "python3",
      "display_name": "Python 3"
    },
    "accelerator": "GPU"
  },
  "cells": [
    {
      "cell_type": "markdown",
      "metadata": {
        "id": "view-in-github",
        "colab_type": "text"
      },
      "source": [
        "<a href=\"https://colab.research.google.com/github/adarsh415/Tensorflow2.x/blob/master/Autoencoder_image.ipynb\" target=\"_parent\"><img src=\"https://colab.research.google.com/assets/colab-badge.svg\" alt=\"Open In Colab\"/></a>"
      ]
    },
    {
      "cell_type": "code",
      "metadata": {
        "id": "3FAcysB83Cos",
        "colab_type": "code",
        "colab": {
          "base_uri": "https://localhost:8080/",
          "height": 33
        },
        "outputId": "4939ea36-68d3-4bc5-faa5-47d2fd7b0d2d"
      },
      "source": [
        "%tensorflow_version 2.x\n",
        "import tensorflow as tf\n",
        "import tensorflow.keras as keras\n",
        "from tensorflow.keras import layers, optimizers, metrics, regularizers, models, datasets\n",
        "import numpy as np\n",
        "import cv2\n",
        "import glob\n",
        "from sklearn.model_selection import train_test_split\n",
        "import requests\n",
        "import os, sys\n",
        "import tarfile\n",
        "import shutil\n",
        "import gc\n",
        "import time"
      ],
      "execution_count": 2,
      "outputs": [
        {
          "output_type": "stream",
          "text": [
            "TensorFlow 2.x selected.\n"
          ],
          "name": "stdout"
        }
      ]
    },
    {
      "cell_type": "code",
      "metadata": {
        "id": "UjGa6x2g3P5C",
        "colab_type": "code",
        "colab": {}
      },
      "source": [
        "def download_file(url):\n",
        "    r = requests.get(url, stream=True)\n",
        "    local_file = 'image.tgz'\n",
        "    if os.path.exists(local_file):\n",
        "        print(f'{local_file} exists. Not Downloading')\n",
        "    else:\n",
        "        with open('image.tgz', 'wb') as f:\n",
        "            for chunk in r.iter_content(chunk_size=2048):\n",
        "                if chunk:\n",
        "                    f.write(chunk)\n",
        "    return os.path.abspath(local_file)"
      ],
      "execution_count": 0,
      "outputs": []
    },
    {
      "cell_type": "code",
      "metadata": {
        "id": "QhlCr8ma3Sv_",
        "colab_type": "code",
        "colab": {}
      },
      "source": [
        "url = 'http://vis-www.cs.umass.edu/lfw/lfw.tgz'\n",
        "#image_path = download_file(url)"
      ],
      "execution_count": 0,
      "outputs": []
    },
    {
      "cell_type": "code",
      "metadata": {
        "id": "HfOwpuix3ZwY",
        "colab_type": "code",
        "colab": {}
      },
      "source": [
        "def untar(path):\n",
        "    dir_ext = 'image_extract'\n",
        "    dir_ext = os.path.abspath(dir_ext)\n",
        "    if os.path.exists(path):\n",
        "        tr = tarfile.open(path, mode='r')\n",
        "        if os.path.exists(dir_ext):\n",
        "            shutil.rmtree(dir_ext, ignore_errors=True)\n",
        "            os.mkdir(dir_ext)\n",
        "            #os.chdir(dir_ext)\n",
        "            tr.extractall(dir_ext)\n",
        "        else:\n",
        "            os.mkdir(dir_ext)\n",
        "            tr.extractall(dir_ext)\n",
        "        return dir_ext\n",
        "    else:\n",
        "        print(f'{path} does not exists')"
      ],
      "execution_count": 0,
      "outputs": []
    },
    {
      "cell_type": "code",
      "metadata": {
        "id": "DyTHaKCR3hsW",
        "colab_type": "code",
        "colab": {}
      },
      "source": [
        "#image_folder = untar(image_path)"
      ],
      "execution_count": 0,
      "outputs": []
    },
    {
      "cell_type": "code",
      "metadata": {
        "id": "j7LETUJt3kyl",
        "colab_type": "code",
        "colab": {}
      },
      "source": [
        "#image_folder"
      ],
      "execution_count": 0,
      "outputs": []
    },
    {
      "cell_type": "code",
      "metadata": {
        "id": "Wlkgy5-q3sGR",
        "colab_type": "code",
        "colab": {}
      },
      "source": [
        "#image_path_lists = glob.glob(image_folder+'/lfw/**/*.jpg')"
      ],
      "execution_count": 0,
      "outputs": []
    },
    {
      "cell_type": "code",
      "metadata": {
        "id": "uTp6Jstq3xgr",
        "colab_type": "code",
        "colab": {}
      },
      "source": [
        "#image_path_lists[0]"
      ],
      "execution_count": 0,
      "outputs": []
    },
    {
      "cell_type": "code",
      "metadata": {
        "id": "AipeNVQP3zuA",
        "colab_type": "code",
        "colab": {}
      },
      "source": [
        "#process images and reduce the size\n",
        "# def process_image(image):\n",
        "#     reduce_size = (80,80,3)\n",
        "#     image = keras.preprocessing.image.load_img(image.numpy(), target_size=reduce_size)\n",
        "#     image = keras.preprocessing.image.img_to_array(image)\n",
        "#     image = image/255.0\n",
        "#     return image\n",
        "#----------------------------------------------------------------------------------------------\n",
        "\n",
        "# for tf2.0\n",
        "def process_image(image):\n",
        "    reduce_size = (80,80)\n",
        "    image = tf.io.read_file(image)\n",
        "    image = tf.image.decode_jpeg(image, channels=3)\n",
        "    image = tf.image.convert_image_dtype(image, tf.float32)\n",
        "    image = tf.image.resize(image, reduce_size)\n",
        "    return image"
      ],
      "execution_count": 0,
      "outputs": []
    },
    {
      "cell_type": "code",
      "metadata": {
        "id": "PSDBNFMj33z-",
        "colab_type": "code",
        "colab": {}
      },
      "source": [
        "# all_images = np.array(image_list)\n",
        "# train_x, val_x = train_test_split(all_images, random_state=32, test_size=0.1)"
      ],
      "execution_count": 0,
      "outputs": []
    },
    {
      "cell_type": "code",
      "metadata": {
        "id": "-btGA6UD360v",
        "colab_type": "code",
        "colab": {}
      },
      "source": [
        "import matplotlib.pyplot as plt\n",
        "%matplotlib inline"
      ],
      "execution_count": 0,
      "outputs": []
    },
    {
      "cell_type": "code",
      "metadata": {
        "id": "OKN0UBUX38nk",
        "colab_type": "code",
        "colab": {}
      },
      "source": [
        "#plt.imshow(all_images[0])"
      ],
      "execution_count": 0,
      "outputs": []
    },
    {
      "cell_type": "code",
      "metadata": {
        "id": "A7CPZqB84Bvc",
        "colab_type": "code",
        "colab": {}
      },
      "source": [
        "# train_x_image = []\n",
        "\n",
        "# for im in train_x:\n",
        "#     image = reduce_pixlate(im)\n",
        "#     train_x_image.append(image)\n",
        "    \n",
        "# val_x_image = []\n",
        "\n",
        "# for im in val_x:\n",
        "#     image = reduce_pixlate(im)\n",
        "#     val_x_image.append(image)"
      ],
      "execution_count": 0,
      "outputs": []
    },
    {
      "cell_type": "code",
      "metadata": {
        "id": "LHnNZ0HV4ETR",
        "colab_type": "code",
        "colab": {}
      },
      "source": [
        "#plt.imshow(train_x_image[3])"
      ],
      "execution_count": 0,
      "outputs": []
    },
    {
      "cell_type": "code",
      "metadata": {
        "id": "Nrx4kJ4W4JHF",
        "colab_type": "code",
        "colab": {}
      },
      "source": [
        "class AutoEncoder(models.Model):\n",
        "    def __init__(self):\n",
        "        super(AutoEncoder,self).__init__()\n",
        "        \n",
        "    def call(self, x):\n",
        "        x = layers.Conv2D(256, (3,3), activation='relu', padding='same')(x)\n",
        "        x = layers.Conv2D(128, (3,3), activation='relu', padding='same')(x)\n",
        "        x = layers.MaxPool2D((2,2))(x)\n",
        "        encoded = layers.Conv2D(64, (3,3), activation='relu', padding='same')(x)\n",
        "        \n",
        "        #decoding\n",
        "        x1 = layers.Conv2D(64, (3,3), activation='relu', padding='same')(encoded)\n",
        "        x1 = layers.UpSampling2D((2,2))(x1)\n",
        "        x1 = layers.Conv2D(128, (3,3), activation='relu', padding='same')(x1)\n",
        "        x1 = layers.Conv2D(256, (3,3), activation='relu', padding='same')(x1)\n",
        "        decoded = layers.Conv2D(3, (3,3), padding='same')(x1)\n",
        "        return decoded"
      ],
      "execution_count": 0,
      "outputs": []
    },
    {
      "cell_type": "code",
      "metadata": {
        "id": "if-eVgJN3-5D",
        "colab_type": "code",
        "colab": {}
      },
      "source": [
        "# lower the resolution #use this with CV2\n",
        "#\n",
        "# def reduce_pixlate(image):\n",
        "#     width = int(image.shape[1]*40/100)\n",
        "#     height = int(image.shape[0]*40/100)\n",
        "#     dim = (width, height)\n",
        "    \n",
        "#     small_image = cv2.resize(image, dim, interpolation=cv2.INTER_AREA)\n",
        "#     #scale back to original\n",
        "#     width = int(small_image.shape[1]*100/40)\n",
        "#     height = int(small_image.shape[0]*100/40)\n",
        "#     dim = (width, height)\n",
        "#     low_res_image = cv2.resize(small_image,dim, interpolation=cv2.INTER_AREA)\n",
        "#     return low_res_image\n",
        "#-------------------------------------------------------------------------------------\n",
        "\n",
        "def reduce_pixlate(image):\n",
        "    width = int(image.shape[1]*40/100)\n",
        "    height = int(image.shape[0]*40/100)\n",
        "    dim = (width, height)\n",
        "    small_image = tf.image.resize(image, dim, method=tf.image.ResizeMethod.AREA)\n",
        "\n",
        "    #scale back to original\n",
        "    width = int(small_image.shape[1]*100/40)\n",
        "    height = int(small_image.shape[0]*100/40)\n",
        "    dim = (width, height)\n",
        "    low_res_image = tf.image.resize(small_image,dim, method=tf.image.ResizeMethod.AREA)\n",
        "    return low_res_image, image"
      ],
      "execution_count": 0,
      "outputs": []
    },
    {
      "cell_type": "code",
      "metadata": {
        "id": "FWTnzjD_4Mnr",
        "colab_type": "code",
        "colab": {}
      },
      "source": [
        "def process_data(url):\n",
        "    image_path = download_file(url)\n",
        "    image_folder = untar(image_path)\n",
        "    list_ds = tf.data.Dataset.list_files(image_folder+'/lfw/**/*.jpg')\n",
        "    X_trainDS = list_ds.take(10233).map(process_image).map(reduce_pixlate).batch(128)\n",
        "    X_valDS = X_trainDS = list_ds.take(3000).map(process_image).map(reduce_pixlate).batch(128)\n",
        "    \n",
        "    return X_trainDS, X_valDS"
      ],
      "execution_count": 0,
      "outputs": []
    },
    {
      "cell_type": "code",
      "metadata": {
        "id": "-6mE5yQB4Oer",
        "colab_type": "code",
        "colab": {}
      },
      "source": [
        "X_trainDS, X_valDS = process_data(url)"
      ],
      "execution_count": 0,
      "outputs": []
    },
    {
      "cell_type": "code",
      "metadata": {
        "id": "RooymvBsVuNo",
        "colab_type": "code",
        "colab": {
          "base_uri": "https://localhost:8080/",
          "height": 553
        },
        "outputId": "ef9c1192-bf38-4d21-a20f-6b9acc1ec354"
      },
      "source": [
        "img = next(iter(X_trainDS.take(1)))\n",
        "print('original image')\n",
        "plt.imshow(img[0].numpy()[0])\n",
        "plt.show()\n",
        "print('reduced pixel image')\n",
        "plt.imshow(img[1].numpy()[0])\n",
        "plt.show()"
      ],
      "execution_count": 20,
      "outputs": [
        {
          "output_type": "stream",
          "text": [
            "original image\n"
          ],
          "name": "stdout"
        },
        {
          "output_type": "display_data",
          "data": {
            "image/png": "[encoded data removed]",
            "text/plain": [
              "<Figure size 432x288 with 1 Axes>"
            ]
          },
          "metadata": {
            "tags": []
          }
        },
        {
          "output_type": "stream",
          "text": [
            "reduced pixel image\n"
          ],
          "name": "stdout"
        },
        {
          "output_type": "display_data",
          "data": {
            "image/png": "[encoded data removed]",
            "text/plain": [
              "<Figure size 432x288 with 1 Axes>"
            ]
          },
          "metadata": {
            "tags": []
          }
        }
      ]
    },
    {
      "cell_type": "code",
      "metadata": {
        "id": "aqyP5iro4QG-",
        "colab_type": "code",
        "colab": {}
      },
      "source": [
        "def train():\n",
        "  start = time.time()\n",
        "  lossfn = keras.losses.MeanSquaredError()\n",
        "  accuracy = metrics.Accuracy()\n",
        "  accuracy.reset_states()\n",
        "  val_accuracy = metrics.Accuracy()\n",
        "  val_accuracy.reset_states()\n",
        "  optimizer = optimizers.Adam(learning_rate=0.003)\n",
        "  model = AutoEncoder()\n",
        "  epochs =50\n",
        "\n",
        "  for epoch in range(epochs):\n",
        "    for step, (x,y) in enumerate(X_trainDS):\n",
        "      with tf.GradientTape() as tape:\n",
        "        logits = model(x)\n",
        "        loss = lossfn(y, logits)\n",
        "        accuracy.update_state(y,logits)\n",
        "\n",
        "      grads = tape.gradient(loss, model.trainable_variables)\n",
        "      optimizer.apply_gradients(zip(grads, model.trainable_variables))\n",
        "      val_data = next(iter(X_valDS))\n",
        "      val_accuracy.update_state( val_data[1] , model(val_data[0]))\n",
        "      del val_data\n",
        "      gc.collect()\n",
        "      if step%1000 ==0:\n",
        "        print(f'train loss after step {step} is {loss.numpy()}')\n",
        "        print(f'train accuracy after step {step} is {accuracy.result()}')\n",
        "        accuracy.reset_states()\n",
        "        print(f'validation accuracy after step {step} is {val_accuracy.result()}')\n",
        "        val_accuracy.reset_states()\n",
        "\n",
        "    print(f'Accuracy after epoch {epoch} is {accuracy.result()}')\n",
        "    accuracy.reset_states()\n",
        "  end = time.time()\n",
        "  print(f'total time take in training is {(end-start)/60} minutes')\n",
        "  predictions =[]\n",
        "  real =[]\n",
        "  for step, (x,y) in enumerate(X_valDS):\n",
        "    prediction = model(x)\n",
        "    predictions.append(prediction.numpy())\n",
        "    real.append(y.numpy())\n",
        "  return predictions, real, model\n"
      ],
      "execution_count": 0,
      "outputs": []
    },
    {
      "cell_type": "code",
      "metadata": {
        "id": "9HPvhPMz9Xjr",
        "colab_type": "code",
        "colab": {
          "base_uri": "https://localhost:8080/",
          "height": 1000
        },
        "outputId": "52f510e7-6ff9-4b33-8fbf-0aac6b8d74c8"
      },
      "source": [
        "pred, real, model = train()"
      ],
      "execution_count": 44,
      "outputs": [
        {
          "output_type": "stream",
          "text": [
            "train loss after step 0 is 0.22670890390872955\n",
            "train accuracy after step 0 is 0.00014160155842546374\n",
            "validation accuracy after step 0 is 0.00025390624068677425\n",
            "Accuracy after epoch 0 is 0.00011341544450260699\n",
            "train loss after step 0 is 0.22298072278499603\n",
            "train accuracy after step 0 is 0.0\n",
            "validation accuracy after step 0 is 0.00017462836694903672\n",
            "Accuracy after epoch 1 is 0.00012795960356015712\n",
            "train loss after step 0 is 0.2080763578414917\n",
            "train accuracy after step 0 is 0.0\n",
            "validation accuracy after step 0 is 0.00010843912605196238\n",
            "Accuracy after epoch 2 is 0.00019328139023855329\n",
            "train loss after step 0 is 0.2268385887145996\n",
            "train accuracy after step 0 is 4.394531424622983e-05\n",
            "validation accuracy after step 0 is 0.0001646084274398163\n",
            "Accuracy after epoch 3 is 0.00010989728616550565\n",
            "train loss after step 0 is 0.2182036191225052\n",
            "train accuracy after step 0 is 0.0\n",
            "validation accuracy after step 0 is 0.00016216702351812273\n",
            "Accuracy after epoch 4 is 0.00012050617806380615\n",
            "train loss after step 0 is 0.2329779863357544\n",
            "train accuracy after step 0 is 0.00027832030900754035\n",
            "validation accuracy after step 0 is 0.00018071492377202958\n",
            "Accuracy after epoch 5 is 0.0001683640875853598\n",
            "train loss after step 0 is 0.2465023398399353\n",
            "train accuracy after step 0 is 7.324218586290954e-06\n",
            "validation accuracy after step 0 is 0.00014378865307662636\n",
            "Accuracy after epoch 6 is 0.00023687761859036982\n",
            "train loss after step 0 is 0.21471792459487915\n",
            "train accuracy after step 0 is 0.00024169922107830644\n",
            "validation accuracy after step 0 is 0.0001233927469002083\n",
            "Accuracy after epoch 7 is 7.801619358360767e-05\n",
            "train loss after step 0 is 0.2381879836320877\n",
            "train accuracy after step 0 is 0.0\n",
            "validation accuracy after step 0 is 0.00014239840675145388\n",
            "Accuracy after epoch 8 is 0.0001829989196266979\n",
            "train loss after step 0 is 0.21901506185531616\n",
            "train accuracy after step 0 is 0.0\n",
            "validation accuracy after step 0 is 0.00021357218793127686\n",
            "Accuracy after epoch 9 is 0.00014366440882440656\n",
            "train loss after step 0 is 0.22746139764785767\n",
            "train accuracy after step 0 is 0.0\n",
            "validation accuracy after step 0 is 0.0001537746866233647\n",
            "Accuracy after epoch 10 is 0.00013379903975874186\n",
            "train loss after step 0 is 0.2176118642091751\n",
            "train accuracy after step 0 is 0.00019531250291038305\n",
            "validation accuracy after step 0 is 0.0001867845276137814\n",
            "Accuracy after epoch 11 is 0.00015445465396624058\n",
            "train loss after step 0 is 0.21643312275409698\n",
            "train accuracy after step 0 is 0.00019531250291038305\n",
            "validation accuracy after step 0 is 0.0001623026473680511\n",
            "Accuracy after epoch 12 is 0.00010688689508242533\n",
            "train loss after step 0 is 0.22564056515693665\n",
            "train accuracy after step 0 is 3.82486978196539e-05\n",
            "validation accuracy after step 0 is 0.0002811686135828495\n",
            "Accuracy after epoch 13 is 0.0001324389158980921\n",
            "train loss after step 0 is 0.21404540538787842\n",
            "train accuracy after step 0 is 0.00031494139693677425\n",
            "validation accuracy after step 0 is 0.00012369791511446238\n",
            "Accuracy after epoch 14 is 0.0001349415397271514\n",
            "train loss after step 0 is 0.2428147941827774\n",
            "train accuracy after step 0 is 0.00039306640974245965\n",
            "validation accuracy after step 0 is 0.00010843912605196238\n",
            "Accuracy after epoch 15 is 0.00016723973385524005\n",
            "train loss after step 0 is 0.227846160531044\n",
            "train accuracy after step 0 is 0.0002282714849570766\n",
            "validation accuracy after step 0 is 0.0002666727814357728\n",
            "Accuracy after epoch 16 is 0.00018107662617694587\n",
            "train loss after step 0 is 0.2235623300075531\n",
            "train accuracy after step 0 is 2.441406286379788e-05\n",
            "validation accuracy after step 0 is 8.855183841660619e-05\n",
            "Accuracy after epoch 17 is 0.00012348029122222215\n",
            "train loss after step 0 is 0.22562772035598755\n",
            "train accuracy after step 0 is 0.00012573241838254035\n",
            "validation accuracy after step 0 is 0.0001470438583055511\n",
            "Accuracy after epoch 18 is 0.0001568303123349324\n",
            "train loss after step 0 is 0.23514916002750397\n",
            "train accuracy after step 0 is 0.00019531250291038305\n",
            "validation accuracy after step 0 is 0.00018561468459665775\n",
            "Accuracy after epoch 19 is 0.00017850147560238838\n",
            "train loss after step 0 is 0.22828340530395508\n",
            "train accuracy after step 0 is 9.765625145519152e-05\n",
            "validation accuracy after step 0 is 0.00015150282706599683\n",
            "Accuracy after epoch 20 is 0.00021653028670698404\n",
            "train loss after step 0 is 0.24585051834583282\n",
            "train accuracy after step 0 is 0.0\n",
            "validation accuracy after step 0 is 0.0001493835443397984\n",
            "Accuracy after epoch 21 is 7.428041135426611e-05\n",
            "train loss after step 0 is 0.23651237785816193\n",
            "train accuracy after step 0 is 0.0002197265566792339\n",
            "validation accuracy after step 0 is 0.00016184488777071238\n",
            "Accuracy after epoch 22 is 0.00013847782975062728\n",
            "train loss after step 0 is 0.22676433622837067\n",
            "train accuracy after step 0 is 0.0\n",
            "validation accuracy after step 0 is 0.000129428444779478\n",
            "Accuracy after epoch 23 is 0.00018727875431068242\n",
            "train loss after step 0 is 0.22659923136234283\n",
            "train accuracy after step 0 is 0.00019531250291038305\n",
            "validation accuracy after step 0 is 0.0001676432293606922\n",
            "Accuracy after epoch 24 is 0.00010920815839199349\n",
            "train loss after step 0 is 0.2185068130493164\n",
            "train accuracy after step 0 is 0.0003906250058207661\n",
            "validation accuracy after step 0 is 0.0001543172256788239\n",
            "Accuracy after epoch 25 is 0.0001792812836356461\n",
            "train loss after step 0 is 0.2248574048280716\n",
            "train accuracy after step 0 is 0.0\n",
            "validation accuracy after step 0 is 0.00010474310693098232\n",
            "Accuracy after epoch 26 is 0.0001302808668697253\n",
            "train loss after step 0 is 0.21618986129760742\n",
            "train accuracy after step 0 is 0.00019531250291038305\n",
            "validation accuracy after step 0 is 0.00016118367784656584\n",
            "Accuracy after epoch 27 is 0.00012097768922103569\n",
            "train loss after step 0 is 0.2565420866012573\n",
            "train accuracy after step 0 is 2.6855468604480848e-05\n",
            "validation accuracy after step 0 is 0.00024178398598451167\n",
            "Accuracy after epoch 28 is 0.0001568665902595967\n",
            "train loss after step 0 is 0.23961643874645233\n",
            "train accuracy after step 0 is 0.0003601074276957661\n",
            "validation accuracy after step 0 is 0.0001671345962677151\n",
            "Accuracy after epoch 29 is 0.00016711278294678777\n",
            "train loss after step 0 is 0.2207738757133484\n",
            "train accuracy after step 0 is 0.0001147460934589617\n",
            "validation accuracy after step 0 is 0.0001291232620133087\n",
            "Accuracy after epoch 30 is 0.00021359244419727474\n",
            "train loss after step 0 is 0.24586981534957886\n",
            "train accuracy after step 0 is 0.0\n",
            "validation accuracy after step 0 is 0.00016911824059206992\n",
            "Accuracy after epoch 31 is 0.00013766175834462047\n",
            "train loss after step 0 is 0.22934852540493011\n",
            "train accuracy after step 0 is 0.0\n",
            "validation accuracy after step 0 is 0.00015516493294853717\n",
            "Accuracy after epoch 32 is 0.00020055347704328597\n",
            "train loss after step 0 is 0.21948029100894928\n",
            "train accuracy after step 0 is 0.0002624511835165322\n",
            "validation accuracy after step 0 is 0.00018464830645825714\n",
            "Accuracy after epoch 33 is 0.00012313573097344488\n",
            "train loss after step 0 is 0.24144409596920013\n",
            "train accuracy after step 0 is 0.0\n",
            "validation accuracy after step 0 is 0.0001762898755259812\n",
            "Accuracy after epoch 34 is 0.000144988254760392\n",
            "train loss after step 0 is 0.2323276847600937\n",
            "train accuracy after step 0 is 7.812499825377017e-05\n",
            "validation accuracy after step 0 is 0.00016594781482126564\n",
            "Accuracy after epoch 35 is 0.00013581200619228184\n",
            "train loss after step 0 is 0.21289074420928955\n",
            "train accuracy after step 0 is 0.00024169922107830644\n",
            "validation accuracy after step 0 is 0.00018403795547783375\n",
            "Accuracy after epoch 36 is 0.00015833550423849374\n",
            "train loss after step 0 is 0.23443514108657837\n",
            "train accuracy after step 0 is 4.882812390860636e-06\n",
            "validation accuracy after step 0 is 0.00025268553872592747\n",
            "Accuracy after epoch 37 is 0.00018172948330175132\n",
            "train loss after step 0 is 0.21465811133384705\n",
            "train accuracy after step 0 is 4.638671816792339e-05\n",
            "validation accuracy after step 0 is 0.0002242533373646438\n",
            "Accuracy after epoch 38 is 0.00021362870757002383\n",
            "train loss after step 0 is 0.23984168469905853\n",
            "train accuracy after step 0 is 0.00019531250291038305\n",
            "validation accuracy after step 0 is 0.00015174018335528672\n",
            "Accuracy after epoch 39 is 0.00022679462563246489\n",
            "train loss after step 0 is 0.22222232818603516\n",
            "train accuracy after step 0 is 1.831054760259576e-05\n",
            "validation accuracy after step 0 is 0.00015423244622070342\n",
            "Accuracy after epoch 40 is 0.00019192128092981875\n",
            "train loss after step 0 is 0.21631546318531036\n",
            "train accuracy after step 0 is 0.00020792643772438169\n",
            "validation accuracy after step 0 is 0.0001703389425529167\n",
            "Accuracy after epoch 41 is 9.7474898211658e-05\n",
            "train loss after step 0 is 0.22853833436965942\n",
            "train accuracy after step 0 is 0.0005895996000617743\n",
            "validation accuracy after step 0 is 0.0001104227703763172\n",
            "Accuracy after epoch 42 is 0.00010989728616550565\n",
            "train loss after step 0 is 0.22389405965805054\n",
            "train accuracy after step 0 is 0.0\n",
            "validation accuracy after step 0 is 0.00013541326916310936\n",
            "Accuracy after epoch 43 is 0.00016943404625635594\n",
            "train loss after step 0 is 0.22927768528461456\n",
            "train accuracy after step 0 is 0.00019531250291038305\n",
            "validation accuracy after step 0 is 9.492662502452731e-05\n",
            "Accuracy after epoch 44 is 0.00016069304547272623\n",
            "train loss after step 0 is 0.2264394909143448\n",
            "train accuracy after step 0 is 0.0\n",
            "validation accuracy after step 0 is 0.00024425931042060256\n",
            "Accuracy after epoch 45 is 0.00017200919683091342\n",
            "train loss after step 0 is 0.24036122858524323\n",
            "train accuracy after step 0 is 0.0003906250058207661\n",
            "validation accuracy after step 0 is 0.00016123453679028898\n",
            "Accuracy after epoch 46 is 0.00010380396997788921\n",
            "train loss after step 0 is 0.22875390946865082\n",
            "train accuracy after step 0 is 0.0\n",
            "validation accuracy after step 0 is 0.00023854573373682797\n",
            "Accuracy after epoch 47 is 0.0001722449524095282\n",
            "train loss after step 0 is 0.20797015726566315\n",
            "train accuracy after step 0 is 0.00019531250291038305\n",
            "validation accuracy after step 0 is 0.00014521280536428094\n",
            "Accuracy after epoch 48 is 0.00010119254875462502\n",
            "train loss after step 0 is 0.21442605555057526\n",
            "train accuracy after step 0 is 9.765624781721272e-06\n",
            "validation accuracy after step 0 is 0.00010808309161802754\n",
            "Accuracy after epoch 49 is 0.00016317752306349576\n",
            "total time take in training is 17.400306367874144 minutes\n"
          ],
          "name": "stdout"
        }
      ]
    },
    {
      "cell_type": "code",
      "metadata": {
        "id": "jLEJ2iqTQfl_",
        "colab_type": "code",
        "colab": {
          "base_uri": "https://localhost:8080/",
          "height": 33
        },
        "outputId": "2a8128fe-a4cc-4c55-b69e-c2a8b92d3f65"
      },
      "source": [
        "pred[0][0].shape"
      ],
      "execution_count": 46,
      "outputs": [
        {
          "output_type": "execute_result",
          "data": {
            "text/plain": [
              "(80, 80, 3)"
            ]
          },
          "metadata": {
            "tags": []
          },
          "execution_count": 46
        }
      ]
    },
    {
      "cell_type": "code",
      "metadata": {
        "id": "Jmybm6vnNZme",
        "colab_type": "code",
        "colab": {
          "base_uri": "https://localhost:8080/",
          "height": 33
        },
        "outputId": "69a7ecb6-b2b6-43b3-8d2c-111c3ea663db"
      },
      "source": [
        "real[0][0].shape"
      ],
      "execution_count": 47,
      "outputs": [
        {
          "output_type": "execute_result",
          "data": {
            "text/plain": [
              "(80, 80, 3)"
            ]
          },
          "metadata": {
            "tags": []
          },
          "execution_count": 47
        }
      ]
    },
    {
      "cell_type": "code",
      "metadata": {
        "id": "cFq4yhuFZ3Zt",
        "colab_type": "code",
        "colab": {
          "base_uri": "https://localhost:8080/",
          "height": 536
        },
        "outputId": "70df6e8b-d8d3-4895-dcbd-f2eac849804d"
      },
      "source": [
        "plt.imshow(((pred[0][0]*255).astype('int64')))\n",
        "plt.show()\n",
        "plt.imshow(real[0][0])\n",
        "plt.show()"
      ],
      "execution_count": 59,
      "outputs": [
        {
          "output_type": "stream",
          "text": [
            "Clipping input data to the valid range for imshow with RGB data ([0..1] for floats or [0..255] for integers).\n"
          ],
          "name": "stderr"
        },
        {
          "output_type": "display_data",
          "data": {
            "image/png": "[encoded data removed]",
            "text/plain": [
              "<Figure size 432x288 with 1 Axes>"
            ]
          },
          "metadata": {
            "tags": []
          }
        },
        {
          "output_type": "display_data",
          "data": {
            "image/png": "[encoded data removed]",
            "text/plain": [
              "<Figure size 432x288 with 1 Axes>"
            ]
          },
          "metadata": {
            "tags": []
          }
        }
      ]
    },
    {
      "cell_type": "code",
      "metadata": {
        "id": "71MTFPgUaNW1",
        "colab_type": "code",
        "colab": {}
      },
      "source": [
        ""
      ],
      "execution_count": 0,
      "outputs": []
    }
  ]
}